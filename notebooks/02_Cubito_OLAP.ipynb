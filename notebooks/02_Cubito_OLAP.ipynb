{
 "cells": [
  {
   "cell_type": "code",
   "execution_count": null,
   "metadata": {},
   "outputs": [],
   "source": [
    "Errores más comunes\n",
    "Mapa de transacciones por estado\n",
    "% de errores por total de transacciones \n",
    "tipo de transaccion más comun \n",
    "transacciones promedio por mes por usuario "
   ]
  },
  {
   "cell_type": "code",
   "execution_count": null,
   "metadata": {},
   "outputs": [],
   "source": [
    "#Dimensiones -> por lo que se va a agrupar\n",
    "\n",
    "Error \n",
    "estado \n",
    "tipo \n",
    "tiempo "
   ]
  },
  {
   "cell_type": "code",
   "execution_count": null,
   "metadata": {},
   "outputs": [],
   "source": [
    "# Hechos (métricas) -> lo que se va a medir/contar/promediar/etc\n",
    "conteo(txn) \n",
    "suma(monto)\n",
    "% errores del total \n",
    "avg(txn por usuario)"
   ]
  },
  {
   "cell_type": "code",
   "execution_count": null,
   "metadata": {},
   "outputs": [],
   "source": []
  }
 ],
 "metadata": {
  "kernelspec": {
   "display_name": "mtiia",
   "language": "python",
   "name": "bi"
  },
  "language_info": {
   "name": "python",
   "version": "3.11.6"
  }
 },
 "nbformat": 4,
 "nbformat_minor": 2
}
