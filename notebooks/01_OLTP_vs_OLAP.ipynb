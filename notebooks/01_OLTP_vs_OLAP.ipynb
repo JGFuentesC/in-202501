{
 "cells": [
  {
   "cell_type": "markdown",
   "metadata": {},
   "source": [
    "## Dependencias"
   ]
  },
  {
   "cell_type": "code",
   "execution_count": 1,
   "metadata": {},
   "outputs": [],
   "source": [
    "# Basic data manipulation\n",
    "import numpy as np\n",
    "import pandas as pd\n",
    "from datetime import datetime\n",
    "from glob import glob\n",
    "from uuid import uuid4\n",
    "from sqlalchemy.engine import create_engine\n",
    "from sqlalchemy.types import VARCHAR,FLOAT,INTEGER,UUID,DATETIME,CHAR,BOOLEAN\n",
    "import json \n",
    "from itertools import chain"
   ]
  },
  {
   "cell_type": "markdown",
   "metadata": {},
   "source": [
    "## Listar archivos"
   ]
  },
  {
   "cell_type": "code",
   "execution_count": 2,
   "metadata": {},
   "outputs": [],
   "source": [
    "ruta = '../ibm_card_txn/*.csv'\n",
    "archivos = np.random.choice(glob(ruta), 4)"
   ]
  },
  {
   "cell_type": "markdown",
   "metadata": {},
   "source": [
    "## Limpieza de datos "
   ]
  },
  {
   "cell_type": "code",
   "execution_count": 3,
   "metadata": {},
   "outputs": [],
   "source": [
    "def validar_datos(archivo:str)->pd.DataFrame:\n",
    "    \"\"\"\n",
    "    Esta función recibe la ruta de un archivo CSV, lee columnas definidas,\n",
    "    convierte ciertos campos a valores numéricos y fechas en formato datetime,\n",
    "    estandariza los nombres de columnas y devuelve un DataFrame resultante\n",
    "    con la información validada.\n",
    "    \"\"\"\n",
    "    cols = ['User', 'Card', 'Year', 'Month', 'Day', 'Time', 'Amount', \n",
    "            'Use Chip','Merchant State', 'MCC', 'Errors?', 'Is Fraud?']\n",
    "    origin = ['User', 'Card', 'Amount', \n",
    "              'Use Chip','Merchant State', 'MCC', 'Errors?', 'Is Fraud?','ts']\n",
    "    names = ['id_user','id_card','c_amt','d_use_chip','d_merchant_state',\n",
    "             'id_mcc','d_errors','b_fraud','dt_timestamp']\n",
    "\n",
    "    df = pd.read_csv(archivo, dtype=str, usecols=cols)\n",
    "\n",
    "    for c in ['User','Card','MCC']:\n",
    "        df[c] = pd.to_numeric(df[c], errors='coerce').fillna(99999).astype(int)\n",
    "    \n",
    "    for c in ['Month','Day']:\n",
    "        df[c] = pd.to_numeric(df[c], errors='coerce').map(lambda x:f'{x:02d}')\n",
    "    \n",
    "    df['ts'] = df[['Year','Month','Day']].apply(\"-\".join,axis=1)\n",
    "    df['ts'] = df[['ts','Time']].apply(\" \".join,axis=1)\n",
    "    df['ts'] = pd.to_datetime(df['ts'],format='%Y-%m-%d %H:%M')\n",
    "\n",
    "    df['Amount'] = pd.to_numeric(df['Amount'].map(lambda x:x.replace('$','')), errors='coerce')\n",
    "    df['Is Fraud?'] = df['Is Fraud?']=='Yes'\n",
    "\n",
    "    df.drop(['Year','Month','Day','Time'],axis=1,inplace=True)\n",
    "    df.rename(columns=dict(zip(origin,names)), inplace=True)\n",
    "\n",
    "    return df"
   ]
  },
  {
   "cell_type": "markdown",
   "metadata": {},
   "source": [
    "OLTP vs OLAP \n",
    "OLTP : On-Line Transactional Processing --> Bases de datos relacionales (la que da soporte a las aplicaciones)--> CRUD \n",
    "OLAP : On-Line Analytical Processing --> Cubos de información (dimensiones/hechos, sirve para análisis) --> SELECT "
   ]
  },
  {
   "cell_type": "markdown",
   "metadata": {},
   "source": [
    "## Limpieza total"
   ]
  },
  {
   "cell_type": "code",
   "execution_count": 4,
   "metadata": {},
   "outputs": [
    {
     "data": {
      "text/plain": [
       "(400000, 10)"
      ]
     },
     "execution_count": 4,
     "metadata": {},
     "output_type": "execute_result"
    }
   ],
   "source": [
    "df = pd.concat(map(validar_datos,archivos),ignore_index=True)\n",
    "df.insert(0,'uuid',df.index.map(lambda x:uuid4()))\n",
    "df.shape"
   ]
  },
  {
   "cell_type": "code",
   "execution_count": 5,
   "metadata": {},
   "outputs": [],
   "source": [
    "df.to_pickle('df_ibm.pkl')"
   ]
  },
  {
   "cell_type": "code",
   "execution_count": 6,
   "metadata": {},
   "outputs": [],
   "source": [
    "df = pd.read_pickle('df_ibm.pkl')"
   ]
  },
  {
   "cell_type": "markdown",
   "metadata": {},
   "source": [
    "## Conexión a la base de datos"
   ]
  },
  {
   "cell_type": "code",
   "execution_count": 7,
   "metadata": {},
   "outputs": [],
   "source": [
    "creds = json.load(open('creds.json'))"
   ]
  },
  {
   "cell_type": "code",
   "execution_count": 8,
   "metadata": {},
   "outputs": [
    {
     "data": {
      "text/plain": [
       "False"
      ]
     },
     "execution_count": 8,
     "metadata": {},
     "output_type": "execute_result"
    }
   ],
   "source": [
    "cnx = create_engine(f\"mysql+pymysql://{creds['user']}:{creds['password']}@{creds['host']}/{creds['database']}\").connect()\n",
    "cnx.closed"
   ]
  },
  {
   "cell_type": "markdown",
   "metadata": {},
   "source": [
    "## Modelo Relacional (OLTP)"
   ]
  },
  {
   "cell_type": "markdown",
   "metadata": {},
   "source": [
    "### Entidad Usuario "
   ]
  },
  {
   "cell_type": "code",
   "execution_count": 9,
   "metadata": {},
   "outputs": [
    {
     "data": {
      "text/plain": [
       "37"
      ]
     },
     "execution_count": 9,
     "metadata": {},
     "output_type": "execute_result"
    }
   ],
   "source": [
    "tbl_user = df[['id_user']].drop_duplicates().reset_index(drop=True)\n",
    "tbl_user['uuid'] = tbl_user['id_user'].map(lambda x:uuid4())\n",
    "tbl_user.to_sql('tbl_user',\n",
    "                cnx,\n",
    "                if_exists='append',\n",
    "                index=False,dtype={'id_user':INTEGER,'uuid':CHAR(36)})"
   ]
  },
  {
   "cell_type": "markdown",
   "metadata": {},
   "source": [
    "### Entidad tarjeta "
   ]
  },
  {
   "cell_type": "code",
   "execution_count": 10,
   "metadata": {},
   "outputs": [
    {
     "data": {
      "text/plain": [
       "121"
      ]
     },
     "execution_count": 10,
     "metadata": {},
     "output_type": "execute_result"
    }
   ],
   "source": [
    "tbl_card = df[['id_card','id_user']].drop_duplicates().reset_index(drop=True)\n",
    "tbl_card['uuid'] = tbl_card['id_card'].map(lambda x:uuid4())\n",
    "tbl_card = tbl_card.merge(tbl_user.rename(columns={'uuid':'uuid_user'}), on='id_user', how='inner').drop(['id_user','id_card'],axis=1)\n",
    "tbl_card.to_sql('tbl_card',\n",
    "                cnx,\n",
    "                if_exists='append',\n",
    "                index=False,dtype={'uuid_user':CHAR(36),'uuid':CHAR(36)})"
   ]
  },
  {
   "cell_type": "markdown",
   "metadata": {},
   "source": [
    "### Entidad tipo txn"
   ]
  },
  {
   "cell_type": "code",
   "execution_count": 11,
   "metadata": {},
   "outputs": [
    {
     "data": {
      "text/plain": [
       "3"
      ]
     },
     "execution_count": 11,
     "metadata": {},
     "output_type": "execute_result"
    }
   ],
   "source": [
    "tbl_txn_type = df[['d_use_chip']].drop_duplicates().reset_index(drop=True)\n",
    "tbl_txn_type['uuid'] = tbl_txn_type['d_use_chip'].map(lambda x:uuid4())\n",
    "tbl_txn_type = tbl_txn_type.rename(columns={'d_use_chip':'txn_type'})\n",
    "tbl_txn_type.to_sql('tbl_txn_type',\n",
    "                    cnx,\n",
    "                    if_exists='append',\n",
    "                    index=False,dtype={'txn_type':VARCHAR(18),'uuid':CHAR(36)})"
   ]
  },
  {
   "cell_type": "code",
   "execution_count": 12,
   "metadata": {},
   "outputs": [
    {
     "data": {
      "text/html": [
       "<div>\n",
       "<style scoped>\n",
       "    .dataframe tbody tr th:only-of-type {\n",
       "        vertical-align: middle;\n",
       "    }\n",
       "\n",
       "    .dataframe tbody tr th {\n",
       "        vertical-align: top;\n",
       "    }\n",
       "\n",
       "    .dataframe thead th {\n",
       "        text-align: right;\n",
       "    }\n",
       "</style>\n",
       "<table border=\"1\" class=\"dataframe\">\n",
       "  <thead>\n",
       "    <tr style=\"text-align: right;\">\n",
       "      <th></th>\n",
       "      <th>uuid</th>\n",
       "      <th>id_user</th>\n",
       "      <th>id_card</th>\n",
       "      <th>c_amt</th>\n",
       "      <th>d_use_chip</th>\n",
       "      <th>d_merchant_state</th>\n",
       "      <th>id_mcc</th>\n",
       "      <th>d_errors</th>\n",
       "      <th>b_fraud</th>\n",
       "      <th>dt_timestamp</th>\n",
       "    </tr>\n",
       "  </thead>\n",
       "  <tbody>\n",
       "    <tr>\n",
       "      <th>0</th>\n",
       "      <td>0617645c-7821-47ab-879f-fc9d37997f89</td>\n",
       "      <td>1584</td>\n",
       "      <td>3</td>\n",
       "      <td>6.93</td>\n",
       "      <td>Chip Transaction</td>\n",
       "      <td>NY</td>\n",
       "      <td>5921</td>\n",
       "      <td>NaN</td>\n",
       "      <td>False</td>\n",
       "      <td>2017-03-03 10:30:00</td>\n",
       "    </tr>\n",
       "    <tr>\n",
       "      <th>1</th>\n",
       "      <td>6d0e047d-d237-48bf-bedd-c187cce08088</td>\n",
       "      <td>1584</td>\n",
       "      <td>3</td>\n",
       "      <td>6.38</td>\n",
       "      <td>Chip Transaction</td>\n",
       "      <td>NY</td>\n",
       "      <td>5921</td>\n",
       "      <td>NaN</td>\n",
       "      <td>False</td>\n",
       "      <td>2017-03-04 10:30:00</td>\n",
       "    </tr>\n",
       "  </tbody>\n",
       "</table>\n",
       "</div>"
      ],
      "text/plain": [
       "                                   uuid  id_user  id_card  c_amt  \\\n",
       "0  0617645c-7821-47ab-879f-fc9d37997f89     1584        3   6.93   \n",
       "1  6d0e047d-d237-48bf-bedd-c187cce08088     1584        3   6.38   \n",
       "\n",
       "         d_use_chip d_merchant_state  id_mcc d_errors  b_fraud  \\\n",
       "0  Chip Transaction               NY    5921      NaN    False   \n",
       "1  Chip Transaction               NY    5921      NaN    False   \n",
       "\n",
       "         dt_timestamp  \n",
       "0 2017-03-03 10:30:00  \n",
       "1 2017-03-04 10:30:00  "
      ]
     },
     "execution_count": 12,
     "metadata": {},
     "output_type": "execute_result"
    }
   ],
   "source": [
    "df.head(2)"
   ]
  },
  {
   "cell_type": "markdown",
   "metadata": {},
   "source": [
    "### Entidad Estado"
   ]
  },
  {
   "cell_type": "code",
   "execution_count": 13,
   "metadata": {},
   "outputs": [
    {
     "data": {
      "text/plain": [
       "95"
      ]
     },
     "execution_count": 13,
     "metadata": {},
     "output_type": "execute_result"
    }
   ],
   "source": [
    "tbl_state = df[['d_merchant_state']].fillna('OTHER').astype(str).drop_duplicates().reset_index(drop=True)\n",
    "tbl_state['uuid'] = tbl_state['d_merchant_state'].map(lambda x:uuid4())\n",
    "tbl_state = tbl_state.rename(columns={'d_merchant_state':'merchant_state'})\n",
    "tbl_state.to_sql('tbl_state',\n",
    "                 cnx,\n",
    "                 if_exists='append',\n",
    "                 index=False,dtype={'merchant_state':VARCHAR(24),'uuid':CHAR(36)})"
   ]
  },
  {
   "cell_type": "markdown",
   "metadata": {},
   "source": [
    "### Entidad MCC"
   ]
  },
  {
   "cell_type": "code",
   "execution_count": 14,
   "metadata": {},
   "outputs": [],
   "source": [
    "mcc = pd.read_excel('lista_mcc.xlsx',skiprows=1)\n",
    "mcc.columns = ['id_mcc','mcc_description']\n",
    "mcc['id_mcc'] = pd.to_numeric(mcc['id_mcc'], errors='coerce').fillna(9999).astype(int)\n",
    "mcc['id_mcc'] = mcc['id_mcc'].map(int).map(lambda x:f'{x:04d}')\n",
    "tbl_mcc = df[['id_mcc']].drop_duplicates().reset_index(drop=True)\n",
    "tbl_mcc['id_mcc'] = tbl_mcc['id_mcc'].map(int).map(lambda x:f'{x:04d}')\n",
    "tbl_mcc = tbl_mcc.merge(mcc, on='id_mcc', how='inner')\n",
    "tbl_mcc['uuid'] = tbl_mcc['id_mcc'].map(lambda x:uuid4())\n"
   ]
  },
  {
   "cell_type": "code",
   "execution_count": 15,
   "metadata": {},
   "outputs": [
    {
     "data": {
      "text/plain": [
       "77"
      ]
     },
     "execution_count": 15,
     "metadata": {},
     "output_type": "execute_result"
    }
   ],
   "source": [
    "tbl_mcc.to_sql('tbl_mcc',\n",
    "               cnx,\n",
    "               if_exists='append',\n",
    "               index=False,dtype={'id_mcc':CHAR(4),'mcc_description':VARCHAR(200),'uuid':CHAR(36)})"
   ]
  },
  {
   "cell_type": "code",
   "execution_count": 16,
   "metadata": {},
   "outputs": [
    {
     "data": {
      "text/plain": [
       "id_mcc\n",
       "4    335\n",
       "Name: count, dtype: int64"
      ]
     },
     "execution_count": 16,
     "metadata": {},
     "output_type": "execute_result"
    }
   ],
   "source": [
    "mcc['id_mcc'].map(len).value_counts()"
   ]
  },
  {
   "cell_type": "markdown",
   "metadata": {},
   "source": [
    "### Entidad Errores "
   ]
  },
  {
   "cell_type": "code",
   "execution_count": 17,
   "metadata": {},
   "outputs": [
    {
     "data": {
      "text/plain": [
       "7"
      ]
     },
     "execution_count": 17,
     "metadata": {},
     "output_type": "execute_result"
    }
   ],
   "source": [
    "tbl_error = pd.Series(sorted(set(chain(*[x.split(',') for x in set(df['d_errors'].dropna())])))).to_frame('error_desc')\n",
    "tbl_error['uuid'] = tbl_error['error_desc'].map(lambda x:uuid4())\n",
    "tbl_error.to_sql('tbl_error',\n",
    "                 cnx,\n",
    "                 if_exists='append',\n",
    "                 index=False,dtype={'error_desc':VARCHAR(20),'uuid':CHAR(36)})"
   ]
  },
  {
   "cell_type": "markdown",
   "metadata": {},
   "source": [
    "### Entidad Puente Error-Txn"
   ]
  },
  {
   "cell_type": "code",
   "execution_count": 25,
   "metadata": {},
   "outputs": [
    {
     "data": {
      "text/plain": [
       "6915"
      ]
     },
     "execution_count": 25,
     "metadata": {},
     "output_type": "execute_result"
    }
   ],
   "source": [
    "tbl_error_txn = df[['uuid','d_errors']].dropna().reset_index(drop=True)\n",
    "tbl_error_txn['d_errors'] = tbl_error_txn['d_errors'].map(lambda x:x.split(',')) \n",
    "tbl_error_txn[['error_1','error_2']] = tbl_error_txn['d_errors'].apply(pd.Series)\n",
    "tbl_error_txn.drop('d_errors',axis=1,inplace=True)\n",
    "tbl_error_txn = tbl_error_txn.melt(id_vars='uuid',value_vars=['error_1','error_2'],value_name='error_desc')\n",
    "tbl_error_txn.drop('variable',axis=1,inplace=True)\n",
    "tbl_error_txn = tbl_error_txn.dropna().reset_index(drop=True)\n",
    "tbl_error_txn = tbl_error_txn.merge(tbl_error.rename(columns={'uuid':'uuid_error'}), on='error_desc', how='inner').drop('error_desc',axis=1)\n",
    "tbl_error_txn.rename(columns={'uuid':'uuid_txn'}, inplace=True)\n",
    "tbl_error_txn['uuid'] = tbl_error_txn.index.map(lambda x:uuid4())\n",
    "tbl_error_txn.to_sql('tbl_error_txn',\n",
    "                     cnx,\n",
    "                     if_exists='replace',\n",
    "                     index=False,dtype={'uuid_txn':CHAR(36),'uuid_error':CHAR(36),'uuid':CHAR(36)})"
   ]
  },
  {
   "cell_type": "markdown",
   "metadata": {},
   "source": [
    "### Entidad Txn"
   ]
  },
  {
   "cell_type": "code",
   "execution_count": 26,
   "metadata": {},
   "outputs": [
    {
     "data": {
      "text/plain": [
       "365608"
      ]
     },
     "execution_count": 26,
     "metadata": {},
     "output_type": "execute_result"
    }
   ],
   "source": [
    "tbl_txn = df.copy()\n",
    "tbl_txn['id_mcc'] = tbl_txn['id_mcc'].map(int).map(lambda x:f'{x:04d}')\n",
    "tbl_txn = tbl_txn.merge(tbl_user.rename(columns={'uuid':'uuid_user'}), on='id_user', how='inner').drop('id_user',axis=1)\n",
    "tbl_txn.drop('id_card',axis=1,inplace=True)\n",
    "tbl_txn = tbl_txn.merge(tbl_txn_type.rename(columns={'uuid':'uuid_txn_type'}), \n",
    "                        left_on='d_use_chip',right_on='txn_type', how='inner').drop(['d_use_chip','txn_type'],axis=1)\n",
    "tbl_txn = tbl_txn.merge(tbl_state.rename(columns={'uuid':'uuid_state'}),\n",
    "                        left_on='d_merchant_state',right_on='merchant_state', how='inner').drop(['d_merchant_state','merchant_state'],axis=1)\n",
    "tbl_txn = tbl_txn.merge(tbl_mcc.rename(columns={'uuid':'uuid_mcc'}), on='id_mcc', how='inner').drop(['id_mcc','mcc_description'],axis=1)\n",
    "tbl_txn.drop('d_errors',axis=1,inplace=True)\n",
    "tbl_txn.to_sql('tbl_txn',\n",
    "               cnx,\n",
    "               if_exists='append',\n",
    "               index=False,dtype={'uuid':CHAR(36),'c_amt':FLOAT,'b_fraud':BOOLEAN,'dt_timestamp':DATETIME,\n",
    "                                  'uuid_user':CHAR(36),'uuid_txn_type':CHAR(36),'uuid_state':CHAR(36),\n",
    "                                  'uuid_mcc':CHAR(36)})"
   ]
  },
  {
   "cell_type": "code",
   "execution_count": null,
   "metadata": {},
   "outputs": [],
   "source": [
    "df.head()"
   ]
  },
  {
   "cell_type": "code",
   "execution_count": null,
   "metadata": {},
   "outputs": [],
   "source": []
  }
 ],
 "metadata": {
  "kernelspec": {
   "display_name": "mtiia",
   "language": "python",
   "name": "bi"
  },
  "language_info": {
   "codemirror_mode": {
    "name": "ipython",
    "version": 3
   },
   "file_extension": ".py",
   "mimetype": "text/x-python",
   "name": "python",
   "nbconvert_exporter": "python",
   "pygments_lexer": "ipython3",
   "version": "3.11.6"
  }
 },
 "nbformat": 4,
 "nbformat_minor": 2
}
