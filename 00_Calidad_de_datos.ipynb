{
 "cells": [
  {
   "cell_type": "markdown",
   "metadata": {},
   "source": [
    "## Dependencias"
   ]
  },
  {
   "cell_type": "code",
   "execution_count": null,
   "metadata": {},
   "outputs": [],
   "source": [
    "# Basic data manipulation\n",
    "import numpy as np\n",
    "import pandas as pd\n",
    "from datetime import datetime\n",
    "from glob import glob\n",
    "\n",
    "# Visualization\n",
    "import matplotlib.pyplot as plt\n",
    "import seaborn as sns\n",
    "\n",
    "# Statistical analysis\n",
    "from scipy import stats\n",
    "\n",
    "# Custom tools\n",
    "from CreditScoringToolkit.DiscreteNormalizer import DiscreteNormalizer\n",
    "from CreditScoringToolkit.frequency_table import frequency_table\n"
   ]
  },
  {
   "cell_type": "markdown",
   "metadata": {},
   "source": [
    "## Listar archivos"
   ]
  },
  {
   "cell_type": "code",
   "execution_count": null,
   "metadata": {},
   "outputs": [],
   "source": [
    "ruta = 'ibm_card_txn/*.csv'\n",
    "archivos = glob(ruta)"
   ]
  },
  {
   "cell_type": "markdown",
   "metadata": {},
   "source": [
    "## Limpieza de datos "
   ]
  },
  {
   "cell_type": "code",
   "execution_count": null,
   "metadata": {},
   "outputs": [],
   "source": [
    "def validar_datos(archivo:str)->pd.DataFrame:\n",
    "    \"\"\"\n",
    "    Esta función recibe la ruta de un archivo CSV, lee columnas definidas,\n",
    "    convierte ciertos campos a valores numéricos y fechas en formato datetime,\n",
    "    estandariza los nombres de columnas y devuelve un DataFrame resultante\n",
    "    con la información validada.\n",
    "    \"\"\"\n",
    "    cols = ['User', 'Card', 'Year', 'Month', 'Day', 'Time', 'Amount', \n",
    "            'Use Chip','Merchant State', 'MCC', 'Errors?', 'Is Fraud?']\n",
    "    origin = ['User', 'Card', 'Amount', \n",
    "              'Use Chip','Merchant State', 'MCC', 'Errors?', 'Is Fraud?','ts']\n",
    "    names = ['id_user','id_card','c_amt','d_use_chip','d_merchant_state',\n",
    "             'id_mcc','d_errors','b_fraud','dt_timestamp']\n",
    "\n",
    "    df = pd.read_csv(archivo, dtype=str, usecols=cols)\n",
    "\n",
    "    for c in ['User','Card','MCC']:\n",
    "        df[c] = pd.to_numeric(df[c], errors='coerce').fillna(99999).astype(int)\n",
    "    \n",
    "    for c in ['Month','Day']:\n",
    "        df[c] = pd.to_numeric(df[c], errors='coerce').map(lambda x:f'{x:02d}')\n",
    "    \n",
    "    df['ts'] = df[['Year','Month','Day']].apply(\"-\".join,axis=1)\n",
    "    df['ts'] = df[['ts','Time']].apply(\" \".join,axis=1)\n",
    "    df['ts'] = pd.to_datetime(df['ts'],format='%Y-%m-%d %H:%M')\n",
    "\n",
    "    df['Amount'] = pd.to_numeric(df['Amount'].map(lambda x:x.replace('$','')), errors='coerce')\n",
    "    df['Is Fraud?'] = df['Is Fraud?']=='Yes'\n",
    "\n",
    "    df.drop(['Year','Month','Day','Time'],axis=1,inplace=True)\n",
    "    df.rename(columns=dict(zip(origin,names)), inplace=True)\n",
    "\n",
    "    return df"
   ]
  },
  {
   "cell_type": "markdown",
   "metadata": {},
   "source": [
    "## Limpieza total"
   ]
  },
  {
   "cell_type": "code",
   "execution_count": null,
   "metadata": {},
   "outputs": [],
   "source": [
    "df = pd.concat(map(validar_datos,archivos),ignore_index=True)\n",
    "df.shape"
   ]
  },
  {
   "cell_type": "markdown",
   "metadata": {},
   "source": [
    "## Control estadístico de la calidad"
   ]
  },
  {
   "cell_type": "code",
   "execution_count": null,
   "metadata": {},
   "outputs": [],
   "source": [
    "df_new = df[df['dt_timestamp']>=datetime(2020,2,1)].copy().reset_index(drop=True)\n",
    "df_old = df[df['dt_timestamp']<datetime(2020,2,1)].copy().reset_index(drop=True)"
   ]
  },
  {
   "cell_type": "code",
   "execution_count": null,
   "metadata": {},
   "outputs": [],
   "source": [
    "df_new.shape,df_old.shape"
   ]
  },
  {
   "cell_type": "markdown",
   "metadata": {},
   "source": [
    "### Continuas"
   ]
  },
  {
   "cell_type": "code",
   "execution_count": null,
   "metadata": {},
   "outputs": [],
   "source": [
    "varc = [v for v in df_old if v[:2]=='c_']\n",
    "varc"
   ]
  },
  {
   "cell_type": "code",
   "execution_count": null,
   "metadata": {},
   "outputs": [],
   "source": [
    "for v in varc:\n",
    "    fig = plt.Figure()\n",
    "    sns.kdeplot(df_old[v].sample(1000),shade=True,cumulative=True)\n",
    "    sns.kdeplot(df_new[v],shade=True,cumulative=True)\n",
    "    plt.show(fig)"
   ]
  },
  {
   "cell_type": "code",
   "execution_count": null,
   "metadata": {},
   "outputs": [],
   "source": [
    "stats.kruskal(df_old['c_amt'].sample(10000),df_new['c_amt'])"
   ]
  },
  {
   "cell_type": "code",
   "execution_count": null,
   "metadata": {},
   "outputs": [],
   "source": [
    "df_old['c_amt'].sample(10000).describe(),df_new['c_amt'].describe()"
   ]
  },
  {
   "cell_type": "markdown",
   "metadata": {},
   "source": [
    "### Discretas"
   ]
  },
  {
   "cell_type": "code",
   "execution_count": null,
   "metadata": {},
   "outputs": [],
   "source": [
    "vard = [v for v in df_old if v[:2] in ['d_', 'b_']]\n",
    "len(vard)\n"
   ]
  },
  {
   "cell_type": "code",
   "execution_count": null,
   "metadata": {},
   "outputs": [],
   "source": [
    "dn = DiscreteNormalizer(normalization_threshold=0.05,default_category='Otros')\n",
    "dn.fit(df_old[vard])"
   ]
  },
  {
   "cell_type": "code",
   "execution_count": null,
   "metadata": {},
   "outputs": [],
   "source": [
    "old_d = dn.transform(df_old[vard].sample(10000))"
   ]
  },
  {
   "cell_type": "code",
   "execution_count": null,
   "metadata": {},
   "outputs": [],
   "source": [
    "frequency_table(old_d,vard)"
   ]
  },
  {
   "cell_type": "code",
   "execution_count": null,
   "metadata": {},
   "outputs": [],
   "source": [
    "new_d = dn.transform(df_new[vard])"
   ]
  },
  {
   "cell_type": "code",
   "execution_count": null,
   "metadata": {},
   "outputs": [],
   "source": [
    "for v in vard[:2]:\n",
    "    plt.Figure()\n",
    "    x= pd.concat([old_d[v].value_counts(1),new_d[v].value_counts(1)],axis=1)\n",
    "    display(x)\n",
    "    stat = stats.chi2_contingency(*[x[c] for c in x.columns])\n",
    "    print(v,f'Chi-square statistic: {stat[0]:.2f}',f'p-value: {stat[1]:.4f}')\n",
    "    fig = x.T.plot(kind='bar', stacked=True, figsize=(10,6))\n",
    "    plt.title(v)\n",
    "    plt.show(fig)"
   ]
  }
 ],
 "metadata": {
  "kernelspec": {
   "display_name": ".venv",
   "language": "python",
   "name": "python3"
  },
  "language_info": {
   "codemirror_mode": {
    "name": "ipython",
    "version": 3
   },
   "file_extension": ".py",
   "mimetype": "text/x-python",
   "name": "python",
   "nbconvert_exporter": "python",
   "pygments_lexer": "ipython3",
   "version": "3.11.6"
  }
 },
 "nbformat": 4,
 "nbformat_minor": 2
}
